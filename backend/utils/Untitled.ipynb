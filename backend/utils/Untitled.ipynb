{
 "cells": [
  {
   "cell_type": "code",
   "execution_count": 1,
   "id": "cdfc83c5-13d6-40c2-a279-b09c4da62ed8",
   "metadata": {},
   "outputs": [],
   "source": [
    "from Orderbook import Order, OrderBook\n",
    "import json"
   ]
  },
  {
   "cell_type": "code",
   "execution_count": 2,
   "id": "47a33083-4764-4f11-b023-18a81ff68a9d",
   "metadata": {},
   "outputs": [
    {
     "data": {
      "text/plain": [
       "{'orderId': 1,\n",
       " 'time': 1649161862.05,\n",
       " 'bidOrAsk': 'BID',\n",
       " 'price': 223.81,\n",
       " 'volume': 100,\n",
       " 'client': 'Client1'}"
      ]
     },
     "execution_count": 2,
     "metadata": {},
     "output_type": "execute_result"
    }
   ],
   "source": [
    "# Read orders from JSON file\n",
    "with open(\"orders.json\", \"r\") as file:\n",
    "    order_datas = json.load(file)\n",
    "order_datas[0]"
   ]
  },
  {
   "cell_type": "code",
   "execution_count": 3,
   "id": "10305e44-d4df-482d-b5f6-691e3078420b",
   "metadata": {},
   "outputs": [
    {
     "data": {
      "text/plain": [
       "[<Orderbook.Order at 0x1059e7490>,\n",
       " <Orderbook.Order at 0x1059e7520>,\n",
       " <Orderbook.Order at 0x1059e6f50>,\n",
       " <Orderbook.Order at 0x1059e5ae0>,\n",
       " <Orderbook.Order at 0x1059e5990>,\n",
       " <Orderbook.Order at 0x1059e5a20>,\n",
       " <Orderbook.Order at 0x1059e59f0>,\n",
       " <Orderbook.Order at 0x1059e59c0>,\n",
       " <Orderbook.Order at 0x1059e6e60>,\n",
       " <Orderbook.Order at 0x1059e5ab0>]"
      ]
     },
     "execution_count": 3,
     "metadata": {},
     "output_type": "execute_result"
    }
   ],
   "source": [
    "# Parse JSON data and create Order objects\n",
    "orders = []\n",
    "for order_data in order_datas:\n",
    "    order = Order(order_data['orderId'], order_data['time'], order_data['bidOrAsk'], order_data['price'], order_data['volume'], order_data['client'])\n",
    "    orders.append(order)\n",
    "orders"
   ]
  },
  {
   "cell_type": "code",
   "execution_count": 4,
   "id": "c8854b0f-2896-4290-9729-72870dcb9a2f",
   "metadata": {},
   "outputs": [
    {
     "data": {
      "text/plain": [
       "defaultdict(dict,\n",
       "            {223.81: {'BID': 100},\n",
       "             223.99: {'ASK': 300},\n",
       "             224.0: {'ASK': 50},\n",
       "             223.95: {'ASK': 158},\n",
       "             223.84: {'BID': 764},\n",
       "             223.86: {'ASK': 221}})"
      ]
     },
     "execution_count": 4,
     "metadata": {},
     "output_type": "execute_result"
    }
   ],
   "source": [
    "book = OrderBook()\n",
    "\n",
    "for order in orders:\n",
    "    book.placeOrder(order)\n",
    "\n",
    "book.volumeMap"
   ]
  },
  {
   "cell_type": "code",
   "execution_count": 5,
   "id": "b4ba3928-5883-4231-8f57-18e48668e706",
   "metadata": {},
   "outputs": [
    {
     "name": "stdout",
     "output_type": "stream",
     "text": [
      "Price: 223.81, Info: {'BID': 100}\n",
      "Price: 223.84, Info: {'BID': 764}\n",
      "Price: 223.86, Info: {'ASK': 221}\n",
      "Price: 223.95, Info: {'ASK': 158}\n",
      "Price: 223.99, Info: {'ASK': 300}\n",
      "Price: 224.0, Info: {'ASK': 50}\n"
     ]
    }
   ],
   "source": [
    "sorted_data = sorted(book.volumeMap.items(), key=lambda x: x[0])\n",
    "\n",
    "for price, info in sorted_data:\n",
    "    print(f\"Price: {price}, Info: {info}\")"
   ]
  },
  {
   "cell_type": "code",
   "execution_count": 6,
   "id": "f6519ac4-8629-498b-86ab-b5b8bd4f5527",
   "metadata": {},
   "outputs": [
    {
     "data": {
      "text/plain": [
       "defaultdict(dict,\n",
       "            {223.81: {'BID': <Orderbook.DoublyLinkedList at 0x1059e6c20>},\n",
       "             223.99: {'ASK': <Orderbook.DoublyLinkedList at 0x1059e4fd0>},\n",
       "             224.0: {'ASK': <Orderbook.DoublyLinkedList at 0x1059e79d0>},\n",
       "             223.95: {'ASK': <Orderbook.DoublyLinkedList at 0x1059e7880>},\n",
       "             223.84: {'BID': <Orderbook.DoublyLinkedList at 0x1059e4bb0>},\n",
       "             223.86: {'ASK': <Orderbook.DoublyLinkedList at 0x1059e5510>}})"
      ]
     },
     "execution_count": 6,
     "metadata": {},
     "output_type": "execute_result"
    }
   ],
   "source": [
    "book.queueMap"
   ]
  },
  {
   "cell_type": "code",
   "execution_count": 7,
   "id": "2f8d7991-3a7e-4443-9680-25d7999be371",
   "metadata": {},
   "outputs": [
    {
     "name": "stdout",
     "output_type": "stream",
     "text": [
      "223.81\n",
      "<Orderbook.DoublyLinkedList object at 0x1059e6c20>\n",
      "[(100, 'Client1', 1)]\n",
      "223.99\n",
      "<Orderbook.DoublyLinkedList object at 0x1059e4fd0>\n",
      "[(300, 'Client2', 2)]\n",
      "224.0\n",
      "<Orderbook.DoublyLinkedList object at 0x1059e79d0>\n",
      "[(50, 'Client3', 3)]\n",
      "223.95\n",
      "<Orderbook.DoublyLinkedList object at 0x1059e7880>\n",
      "[(158, 'Client4', 4)]\n",
      "223.84\n",
      "<Orderbook.DoublyLinkedList object at 0x1059e4bb0>\n",
      "[(764, 'Client5', 5)]\n",
      "223.86\n",
      "<Orderbook.DoublyLinkedList object at 0x1059e5510>\n",
      "[(221, 'Client8', 8)]\n"
     ]
    }
   ],
   "source": [
    "for price, queue in book.queueMap.items():\n",
    "    print(price)\n",
    "    # queue.printDLL()\n",
    "    for _, dll in queue.items():\n",
    "        print(dll)\n",
    "        dll.printDLL()"
   ]
  },
  {
   "cell_type": "code",
   "execution_count": 33,
   "id": "bfe33ff5-fac7-4168-a4bc-fcb0f7aa1173",
   "metadata": {},
   "outputs": [
    {
     "data": {
      "text/plain": [
       "<Orderbook.MaxHeap at 0x107f16680>"
      ]
     },
     "execution_count": 33,
     "metadata": {},
     "output_type": "execute_result"
    }
   ],
   "source": [
    "book.bestBid"
   ]
  },
  {
   "cell_type": "code",
   "execution_count": null,
   "id": "e920eb55-966d-4b5e-a3a0-508eb78e27c2",
   "metadata": {},
   "outputs": [
    {
     "ename": "",
     "evalue": "",
     "output_type": "error",
     "traceback": [
      "\u001b[1;31mRunning cells with 'CME_PDF-HkJnYYqL (Python 3.11.2)' requires the ipykernel package.\n",
      "\u001b[1;31mRun the following command to install 'ipykernel' into the Python environment. \n",
      "\u001b[1;31mCommand: '/Users/VishakhS/.local/share/virtualenvs/CME_PDF-HkJnYYqL/bin/python -m pip install ipykernel -U --force-reinstall'"
     ]
    }
   ],
   "source": []
  }
 ],
 "metadata": {
  "kernelspec": {
   "display_name": "Python 3 (ipykernel)",
   "language": "python",
   "name": "python3"
  },
  "language_info": {
   "codemirror_mode": {
    "name": "ipython",
    "version": 3
   },
   "file_extension": ".py",
   "mimetype": "text/x-python",
   "name": "python",
   "nbconvert_exporter": "python",
   "pygments_lexer": "ipython3",
   "version": "3.10.6"
  }
 },
 "nbformat": 4,
 "nbformat_minor": 5
}
