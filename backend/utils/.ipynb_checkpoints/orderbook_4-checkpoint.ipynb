{
 "cells": [
  {
   "cell_type": "code",
   "execution_count": null,
   "metadata": {},
   "outputs": [
    {
     "ename": "",
     "evalue": "",
     "output_type": "error",
     "traceback": [
      "\u001b[1;31mRunning cells with 'CME_PDF-HkJnYYqL (Python 3.11.2)' requires the ipykernel package.\n",
      "\u001b[1;31mRun the following command to install 'ipykernel' into the Python environment. \n",
      "\u001b[1;31mCommand: '/Users/VishakhS/.local/share/virtualenvs/CME_PDF-HkJnYYqL/bin/python -m pip install ipykernel -U --force-reinstall'"
     ]
    }
   ],
   "source": [
    "import numpy as np\n",
    "import pandas as pd\n",
    "import matplotlib.pyplot as plt\n",
    "from typing import List, Optional\n",
    "from collections import defaultdict, deque\n",
    "from Orderbook import Order, OrderBook\n",
    "\n",
    "df = pd.read_csv('../LOBSTER_SampleFile_AMZN_2012-06-21_1/AMZN_2012-06-21_34200000_57600000_message_1.csv')\n",
    "df['Price'] = np.vectorize(lambda x:x/10000)(df['Price'])"
   ]
  },
  {
   "cell_type": "code",
   "execution_count": null,
   "metadata": {},
   "outputs": [
    {
     "ename": "",
     "evalue": "",
     "output_type": "error",
     "traceback": [
      "\u001b[1;31mRunning cells with 'CME_PDF-HkJnYYqL (Python 3.11.2)' requires the ipykernel package.\n",
      "\u001b[1;31mRun the following command to install 'ipykernel' into the Python environment. \n",
      "\u001b[1;31mCommand: '/Users/VishakhS/.local/share/virtualenvs/CME_PDF-HkJnYYqL/bin/python -m pip install ipykernel -U --force-reinstall'"
     ]
    }
   ],
   "source": [
    "import math\n",
    "\n",
    "def calc_reservation_price(mid, exposure, tick, vol, risk):\n",
    "    end = 57600 # sec after midnight\n",
    "    return mid - exposure * risk * vol * (end - tick)\n",
    "\n",
    "def calc_spread(risk, vol, tick, impact):\n",
    "    end = 57600\n",
    "    return 0.5 * (risk * vol * (end-tick) + (2/risk) * math.log(1 + risk/impact))"
   ]
  },
  {
   "cell_type": "code",
   "execution_count": null,
   "metadata": {},
   "outputs": [
    {
     "ename": "",
     "evalue": "",
     "output_type": "error",
     "traceback": [
      "\u001b[1;31mRunning cells with 'CME_PDF-HkJnYYqL (Python 3.11.2)' requires the ipykernel package.\n",
      "\u001b[1;31mRun the following command to install 'ipykernel' into the Python environment. \n",
      "\u001b[1;31mCommand: '/Users/VishakhS/.local/share/virtualenvs/CME_PDF-HkJnYYqL/bin/python -m pip install ipykernel -U --force-reinstall'"
     ]
    }
   ],
   "source": [
    "book = OrderBook()\n",
    "\n",
    "data = []\n",
    "myQueue = deque()\n",
    "ct = 0 \n",
    "\n",
    "# prefix var calculations\n",
    "# sum_x = 0.0\n",
    "# sum_x_squared = 0.0\n",
    "# sig_sq = 0\n",
    "varWindow = 1000\n",
    "vars = []\n",
    "\n",
    "j = 0\n",
    "\n",
    "\n",
    "prev = None # Tuple (time, last mid)\n",
    "\n",
    "cash, exposure = 0, 0\n",
    "cList = []\n",
    "eList = []\n",
    "times = []\n",
    "total = []\n",
    "last_a, last_b = None, None\n",
    "k_a, k_b = None, None\n",
    "k = None\n",
    "\n",
    "# rolling density calc period\n",
    "pi = 0.5\n",
    "# bidUpdates = deque()\n",
    "# askUpdates = deque()\n",
    "updates = deque()\n",
    "\n",
    "# trading params\n",
    "totTime = (57600 - 32400)\n",
    "dt = 0.005 # total trading time * dt param in paper\n",
    "tradWindow = totTime * dt + 32400\n",
    "risk = 0.1\n",
    "vol = None # init\n",
    "initId = 12345\n",
    "\n",
    "latency = 0.0\n",
    "\n",
    "for i in range(len(df)):\n",
    "\n",
    "    row = df.iloc[i]\n",
    "\n",
    "    # Inputting Orderbook Updates\n",
    "    while myQueue and myQueue[0].datetime < row.Time: # give != pref to market\n",
    "        curr = myQueue.popleft()\n",
    "        book.placeOrder(curr)\n",
    "\n",
    "    if row.Type == 1:\n",
    "        curr = Order(row.OrderId, row.Time, ('BID' if row.Direction == 1 else 'ASK'), row.Price, row.Size, 'resting')\n",
    "        book.placeOrder(curr)\n",
    "    elif row.Type == 2:\n",
    "        book.partialCancel(row.OrderId, row.Size)\n",
    "    elif row.Type == 3:\n",
    "        book.cancelOrder(row.OrderId)\n",
    "    elif row.Type == 4:\n",
    "        # Execution of visible\n",
    "        book.executeOrder(row.OrderId, 'market')\n",
    "    elif row.Type == 5:\n",
    "        # Execution of hidden\n",
    "        continue\n",
    "    elif row.Type == 7:\n",
    "        # Halts\n",
    "        continue\n",
    "    \n",
    "    # Orderbook Reconstruction\n",
    "    bestAsk = book.bestAsk.getMin()\n",
    "    bestBid = book.bestBid.getMin()\n",
    "\n",
    "    bookListing = [row.Time]\n",
    "\n",
    "    if bestAsk and bestBid:\n",
    "        bookListing.append(bestAsk.price)\n",
    "        bookListing.append(book.volumeMap[bestAsk.price]['ASK'])\n",
    "\n",
    "        bookListing.append(bestBid.price)\n",
    "        bookListing.append(book.volumeMap[bestBid.price]['BID'])\n",
    "\n",
    "        data.append(bookListing)\n",
    "\n",
    "        # \"Trading\"\n",
    "\n",
    "        currMid = (bestAsk.price + bestBid.price)/2\n",
    "\n",
    "        if 'me' in book.clientMap: \n",
    "            exposure = book.clientMap['me']['Exposure']\n",
    "            eList.append(exposure)\n",
    "            cash = book.clientMap['me']['Cash']\n",
    "            cList.append(cash)\n",
    "            times.append(row.Time)\n",
    "            total.append(cash + exposure * currMid)\n",
    "\n",
    "        curr = (row.Time, currMid)\n",
    "\n",
    "        # Calc liquidity\n",
    "        updates.append(curr)\n",
    "        while updates and updates[0][0] <= (curr[0] - pi):\n",
    "            updates.popleft()\n",
    "        if updates:\n",
    "            if not last_b: last_b = len(updates) / pi\n",
    "            else:\n",
    "                temp = len(updates) / pi\n",
    "                if temp != last_b:\n",
    "                    k = (temp * last_b) / abs(temp - last_b)\n",
    "                last_b = temp\n",
    "\n",
    "        # while bidUpdates and bidUpdates[0][0] <= (curr[0] - pi):\n",
    "        #     bidUpdates.popleft()\n",
    "        # if row.Direction == 1: bidUpdates.append(curr)\n",
    "        # if not last_b: last_b = len(bidUpdates) / pi\n",
    "        # else: \n",
    "        #     temp = len(bidUpdates) / (bidUpdates[-1][0] - bidUpdates[0][0])\n",
    "        #     if temp != last_b:\n",
    "        #         k_b = (temp * last_b) / (temp - last_b)\n",
    "        #     last_b = temp\n",
    "\n",
    "        # while askUpdates and askUpdates[0][0] <= (curr[0] - pi):\n",
    "        #     askUpdates.popleft()\n",
    "        # if row.Direction != 1: askUpdates.append(curr)\n",
    "        # if not last_a: last_a = len(askUpdates) / pi\n",
    "        # else: \n",
    "        #     temp = len(askUpdates) / (askUpdates[-1][0] - askUpdates[0][0])\n",
    "        #     if temp != last_b:\n",
    "        #         k_a = (temp * last_b) / (temp - last_b)\n",
    "        #     last_a = temp\n",
    "\n",
    "        # Calc prefix variance    \n",
    "        # if prev:\n",
    "        x = currMid\n",
    "        if j < varWindow: vars.append(x)\n",
    "        else: vars[j % varWindow] = x\n",
    "        vol = np.var(vars)\n",
    "        j += 1\n",
    "            # print(f\"currmid: {currMid}\")\n",
    "            # sum_x += x\n",
    "            # sum_x_squared += x * x\n",
    "\n",
    "            # if j == 0:\n",
    "                # vol = 0 \n",
    "            # else:\n",
    "                # mean = sum_x / (j + 1)\n",
    "                # variance = (sum_x_squared - (sum_x * sum_x) / (j + 1)) / j\n",
    "                # vol = variance\n",
    "\n",
    "\n",
    "        # See if trading window has opened\n",
    "        if vol and k and row.Time > tradWindow:\n",
    "            # doTrade\n",
    "            res = calc_reservation_price(currMid, exposure, row.Time, vol, risk)\n",
    "            bidSpread = calc_spread(risk, vol, row.Time, k)\n",
    "            askSpread = calc_spread(risk, vol, row.Time, k)\n",
    "            print(k)\n",
    "            if bidSpread < 10:\n",
    "            # def calc_spread(risk, vol, tick, impact):\n",
    "                myQueue.append(Order(initId, row.Time + latency, 'BID', res - bidSpread, 50, 'me'))\n",
    "                myQueue.append(Order(initId + 1, row.Time + latency, 'ASK', res + askSpread, 50, 'me'))\n",
    " \n",
    "            initId += 2\n",
    "\n",
    "            tradWindow += dt * totTime\n",
    "\n",
    "        prev = curr\n",
    "\n",
    "        \n",
    "\n",
    "    "
   ]
  },
  {
   "cell_type": "code",
   "execution_count": null,
   "metadata": {},
   "outputs": [
    {
     "ename": "",
     "evalue": "",
     "output_type": "error",
     "traceback": [
      "\u001b[1;31mRunning cells with 'CME_PDF-HkJnYYqL (Python 3.11.2)' requires the ipykernel package.\n",
      "\u001b[1;31mRun the following command to install 'ipykernel' into the Python environment. \n",
      "\u001b[1;31mCommand: '/Users/VishakhS/.local/share/virtualenvs/CME_PDF-HkJnYYqL/bin/python -m pip install ipykernel -U --force-reinstall'"
     ]
    }
   ],
   "source": [
    "stats = pd.DataFrame(data=zip(times, cList, eList, total), columns=['Time','Cash', 'Exposure', 'Returns'])\n",
    "stats.plot(x='Time', y=\"Exposure\", kind=\"line\")\n",
    "plt.title(f'AMZN 1 Day {latency * 1000} ms Latency')\n",
    "print(list(stats.Returns)[-1])"
   ]
  },
  {
   "cell_type": "code",
   "execution_count": null,
   "metadata": {
    "scrolled": true
   },
   "outputs": [
    {
     "ename": "",
     "evalue": "",
     "output_type": "error",
     "traceback": [
      "\u001b[1;31mRunning cells with 'CME_PDF-HkJnYYqL (Python 3.11.2)' requires the ipykernel package.\n",
      "\u001b[1;31mRun the following command to install 'ipykernel' into the Python environment. \n",
      "\u001b[1;31mCommand: '/Users/VishakhS/.local/share/virtualenvs/CME_PDF-HkJnYYqL/bin/python -m pip install ipykernel -U --force-reinstall'"
     ]
    }
   ],
   "source": [
    "import numpy as np\n",
    "print(ct)\n",
    "newdf = pd.DataFrame(data=data, columns=['Tick','Ask', 'AV', 'Bid', 'BVol'])\n",
    "newdf['Mid'] = np.vectorize(lambda a,b: (a+b)/2)(newdf['Ask'], newdf['Bid'])\n",
    "# newdf.head(10)\n",
    "print(newdf)"
   ]
  },
  {
   "cell_type": "code",
   "execution_count": null,
   "metadata": {},
   "outputs": [
    {
     "ename": "",
     "evalue": "",
     "output_type": "error",
     "traceback": [
      "\u001b[1;31mRunning cells with 'CME_PDF-HkJnYYqL (Python 3.11.2)' requires the ipykernel package.\n",
      "\u001b[1;31mRun the following command to install 'ipykernel' into the Python environment. \n",
      "\u001b[1;31mCommand: '/Users/VishakhS/.local/share/virtualenvs/CME_PDF-HkJnYYqL/bin/python -m pip install ipykernel -U --force-reinstall'"
     ]
    }
   ],
   "source": [
    "newdf.to_csv('add_cancel.csv')\n",
    "# newdf['Mid'] = np.vectorize(lambda a: a/10000)(newdf['Mid']) \n",
    "newdf['TickCt'] = newdf.index\n",
    "newdf.plot(x='TickCt', y='Mid', kind='line')\n",
    "plt.title('My Reconstsruction')\n",
    "plt.show()\n",
    "\n",
    "real_df = pd.read_csv('../LOBSTER_SampleFile_AMZN_2012-06-21_1/AMZN_2012-06-21_34200000_57600000_orderbook_1.csv')\n",
    "real_df['Time'] = real_df.index\n",
    "real_df['Mid'] = np.vectorize(lambda a,b: (a+b)/2)(real_df['BestAsk'], real_df['BestBid'])\n",
    "# real_df['Mid'] = np.vectorize(lambda a: a/10000)(real_df['Mid'])\n",
    "real_df.plot(x='Time', y='Mid')\n",
    "plt.title('Real Reconstruction')\n",
    "plt.show()"
   ]
  },
  {
   "cell_type": "code",
   "execution_count": null,
   "metadata": {},
   "outputs": [
    {
     "ename": "",
     "evalue": "",
     "output_type": "error",
     "traceback": [
      "\u001b[1;31mRunning cells with 'CME_PDF-HkJnYYqL (Python 3.11.2)' requires the ipykernel package.\n",
      "\u001b[1;31mRun the following command to install 'ipykernel' into the Python environment. \n",
      "\u001b[1;31mCommand: '/Users/VishakhS/.local/share/virtualenvs/CME_PDF-HkJnYYqL/bin/python -m pip install ipykernel -U --force-reinstall'"
     ]
    }
   ],
   "source": [
    "print(book.clientMap)\n",
    "print(bestAsk.price)"
   ]
  },
  {
   "cell_type": "code",
   "execution_count": null,
   "metadata": {},
   "outputs": [
    {
     "ename": "",
     "evalue": "",
     "output_type": "error",
     "traceback": [
      "\u001b[1;31mRunning cells with 'CME_PDF-HkJnYYqL (Python 3.11.2)' requires the ipykernel package.\n",
      "\u001b[1;31mRun the following command to install 'ipykernel' into the Python environment. \n",
      "\u001b[1;31mCommand: '/Users/VishakhS/.local/share/virtualenvs/CME_PDF-HkJnYYqL/bin/python -m pip install ipykernel -U --force-reinstall'"
     ]
    }
   ],
   "source": []
  }
 ],
 "metadata": {
  "interpreter": {
   "hash": "dca0ade3e726a953b501b15e8e990130d2b7799f14cfd9f4271676035ebe5511"
  },
  "kernelspec": {
   "display_name": "Python 3 (ipykernel)",
   "language": "python",
   "name": "python3"
  },
  "language_info": {
   "codemirror_mode": {
    "name": "ipython",
    "version": 3
   },
   "file_extension": ".py",
   "mimetype": "text/x-python",
   "name": "python",
   "nbconvert_exporter": "python",
   "pygments_lexer": "ipython3",
   "version": "3.11.2"
  }
 },
 "nbformat": 4,
 "nbformat_minor": 2
}
